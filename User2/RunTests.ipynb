{
 "cells": [
  {
   "cell_type": "code",
   "execution_count": 1,
   "id": "e96c4370-f68e-4b6e-8133-33cc72672796",
   "metadata": {},
   "outputs": [],
   "source": [
    "from src import functions"
   ]
  },
  {
   "cell_type": "code",
   "execution_count": 2,
   "id": "5b8289d8-cd7c-4d57-a8ab-70b944307608",
   "metadata": {},
   "outputs": [
    {
     "data": {
      "text/plain": [
       "16"
      ]
     },
     "execution_count": 2,
     "metadata": {},
     "output_type": "execute_result"
    }
   ],
   "source": [
    "functions.foo_function(4)"
   ]
  },
  {
   "cell_type": "code",
   "execution_count": 3,
   "id": "6cfe09db-2e11-42e4-b538-24d519252e52",
   "metadata": {},
   "outputs": [
    {
     "name": "stdout",
     "output_type": "stream",
     "text": [
      "\u001b[1m============================= test session starts ==============================\u001b[0m\n",
      "platform darwin -- Python 3.9.10, pytest-7.0.1, pluggy-1.0.0\n",
      "rootdir: /Users/lmoresi/+Github/EMSC-4033-2022-assignment/User1\n",
      "plugins: anyio-3.4.0, typeguard-2.13.3\n",
      "collected 1 item                                                               \u001b[0m\n",
      "\n",
      "tests/test_functions.py \u001b[32m.\u001b[0m\u001b[32m                                                [100%]\u001b[0m\n",
      "\n",
      "\u001b[32m============================== \u001b[32m\u001b[1m1 passed\u001b[0m\u001b[32m in 0.02s\u001b[0m\u001b[32m ===============================\u001b[0m\n"
     ]
    }
   ],
   "source": [
    "! pytest"
   ]
  },
  {
   "cell_type": "code",
   "execution_count": null,
   "id": "016f350e-1f57-4a99-867a-24692bbba922",
   "metadata": {},
   "outputs": [],
   "source": []
  }
 ],
 "metadata": {
  "kernelspec": {
   "display_name": "Python 3 (ipykernel)",
   "language": "python",
   "name": "python3"
  },
  "language_info": {
   "codemirror_mode": {
    "name": "ipython",
    "version": 3
   },
   "file_extension": ".py",
   "mimetype": "text/x-python",
   "name": "python",
   "nbconvert_exporter": "python",
   "pygments_lexer": "ipython3",
   "version": "3.9.10"
  }
 },
 "nbformat": 4,
 "nbformat_minor": 5
}
